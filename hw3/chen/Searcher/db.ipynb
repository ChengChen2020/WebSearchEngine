{
 "cells": [
  {
   "cell_type": "code",
   "execution_count": 1,
   "id": "1986b227",
   "metadata": {},
   "outputs": [],
   "source": [
    "import mariadb\n",
    "import sys"
   ]
  },
  {
   "cell_type": "code",
   "execution_count": 2,
   "id": "f4a21b21",
   "metadata": {},
   "outputs": [],
   "source": [
    "# Connect Mariadb\n",
    "try:\n",
    "    conn = mariadb.connect(\n",
    "        user=\"root\",\n",
    "        password=\"123456\",\n",
    "#         host=\"127.0.0.1\",\n",
    "#         port=3306,\n",
    "    )\n",
    "except mariadb.Error as e:\n",
    "    print(f\"Error connecting to MariaDB Platform: {e}\")\n",
    "    sys.exit(1)"
   ]
  },
  {
   "cell_type": "code",
   "execution_count": 3,
   "id": "1441d152",
   "metadata": {},
   "outputs": [],
   "source": [
    "DB_NAME = 'wse'\n",
    "\n",
    "TABLES = {}\n",
    "TABLES['lexicon'] = (\n",
    "    \"CREATE TABLE `lexicon` (\"\n",
    "    \"  `term`   varchar(30) NOT NULL,\"\n",
    "    \"  `start`  bigint      NOT NULL,\"\n",
    "    \"  `end`    bigint      NOT NULL,\"\n",
    "    \"  `freq`   int         NOT NULL,\"\n",
    "    \"  PRIMARY KEY (`term`)\"\n",
    "    \") ENGINE=InnoDB\")\n",
    "\n",
    "TABLES['docs'] = (\n",
    "    \"CREATE TABLE `docs` (\"\n",
    "    \"  `url`   varchar(1024)   NOT NULL,\"\n",
    "    \"  `text`  varchar(2048)   NOT NULL,\"\n",
    "    \"  PRIMARY KEY (`url`)\"\n",
    "    \") ENGINE=InnoDB\")"
   ]
  },
  {
   "cell_type": "code",
   "execution_count": 4,
   "id": "b7a9496e",
   "metadata": {},
   "outputs": [],
   "source": [
    "# Get Cursor\n",
    "cur = conn.cursor()"
   ]
  },
  {
   "cell_type": "code",
   "execution_count": 5,
   "id": "e1094a49",
   "metadata": {},
   "outputs": [],
   "source": [
    "# Create Database\n",
    "def create_database(cursor):\n",
    "    try:\n",
    "        cursor.execute(\n",
    "            \"CREATE DATABASE {} DEFAULT CHARACTER SET 'utf8'\".format(DB_NAME))\n",
    "    except mysql.connector.Error as err:\n",
    "        print(\"Failed creating database: {}\".format(err))\n",
    "        exit(1)\n",
    "\n",
    "try:\n",
    "    cur.execute(\"USE {}\".format(DB_NAME))\n",
    "except conn.Error as err:\n",
    "    print(\"Database {} does not exists.\".format(DB_NAME))\n",
    "    create_database(cur)\n",
    "    print(\"Database {} created successfully.\".format(DB_NAME))\n",
    "    conn.database = DB_NAME"
   ]
  },
  {
   "cell_type": "code",
   "execution_count": 6,
   "id": "086897ed",
   "metadata": {},
   "outputs": [
    {
     "name": "stdout",
     "output_type": "stream",
     "text": [
      "Creating table lexicon: Table 'lexicon' already exists\n",
      "Creating table docs: Table 'docs' already exists\n"
     ]
    }
   ],
   "source": [
    "for table_name in TABLES:\n",
    "    table_description = TABLES[table_name]\n",
    "    try:\n",
    "        print(\"Creating table {}: \".format(table_name), end='')\n",
    "        cur.execute(table_description)\n",
    "    except conn.Error as err:\n",
    "        print(err.msg)"
   ]
  },
  {
   "cell_type": "code",
   "execution_count": null,
   "id": "a08805bc",
   "metadata": {},
   "outputs": [],
   "source": [
    "# build lexicon\n",
    "with open('/Volumes/Elements/indexer/lexicon') as lex:\n",
    "    for line in lex:\n",
    "        term, start, end, freq = line.strip().split()\n",
    "        try:\n",
    "            cur.execute(\n",
    "                \"INSERT INTO lexicon (term, start, end, freq) VALUES (?, ?, ?, ?)\", \n",
    "                (term, int(start), int(end), int(freq)))\n",
    "        except conn.Error as err:\n",
    "            pass\n",
    "conn.commit()"
   ]
  },
  {
   "cell_type": "code",
   "execution_count": null,
   "id": "f706bc7b",
   "metadata": {},
   "outputs": [],
   "source": [
    "# # check one term\n",
    "# term = 'cheng'\n",
    "# cur.execute(\n",
    "#     \"SELECT start, end, freq FROM lexicon WHERE term=?\", \n",
    "#     (term,))"
   ]
  },
  {
   "cell_type": "code",
   "execution_count": 7,
   "id": "e554f1b0",
   "metadata": {
    "scrolled": true
   },
   "outputs": [
    {
     "name": "stdout",
     "output_type": "stream",
     "text": [
      "(36178733,)\n"
     ]
    }
   ],
   "source": [
    "cur.execute(\"select COUNT(*) from lexicon\")\n",
    "for a in cur:\n",
    "    print(a)"
   ]
  },
  {
   "cell_type": "code",
   "execution_count": null,
   "id": "63365c71",
   "metadata": {
    "scrolled": true
   },
   "outputs": [],
   "source": [
    "# build page table\n",
    "with open('/Volumes/Elements/indexer/msmarco-docs.trec') as d:\n",
    "    cnt = 0\n",
    "    while True:\n",
    "        nxt = d.readline()\n",
    "        if len(nxt) == 0:\n",
    "            break\n",
    "        if nxt.strip() == \"<DOC>\":\n",
    "            for i in range(2):\n",
    "                d.readline()\n",
    "            url = d.readline().strip()\n",
    "            text = ''\n",
    "            line = ''\n",
    "            while True:\n",
    "                line = d.readline().strip();\n",
    "                if line == \"</TEXT>\":\n",
    "                    break\n",
    "                text += line + ' '\n",
    "                try:\n",
    "                    cur.execute(\n",
    "                        \"INSERT INTO docs (url, text) VALUES (?, ?)\", \n",
    "                        (url, text[:2048])\n",
    "                except conn.Error as err:\n",
    "                    pass\n",
    "conn.commit()"
   ]
  },
  {
   "cell_type": "code",
   "execution_count": 10,
   "id": "6492d7a2",
   "metadata": {},
   "outputs": [
    {
     "name": "stdout",
     "output_type": "stream",
     "text": [
      "(3212965,)\n"
     ]
    }
   ],
   "source": [
    "cur.execute(\"select COUNT(*) from docs\")\n",
    "for a in cur:\n",
    "    print(a)"
   ]
  },
  {
   "cell_type": "code",
   "execution_count": null,
   "id": "122b21ac",
   "metadata": {},
   "outputs": [],
   "source": [
    "# # check one url\n",
    "# url = 'http://internet-eraser-soft.tripod.com/address.html'\n",
    "# cur.execute(\n",
    "#     \"SELECT text FROM docs WHERE url=?\", \n",
    "#     (url,))"
   ]
  },
  {
   "cell_type": "code",
   "execution_count": null,
   "id": "651e8d74",
   "metadata": {},
   "outputs": [],
   "source": [
    "conn.close()"
   ]
  }
 ],
 "metadata": {
  "kernelspec": {
   "display_name": "Python [conda env:root] *",
   "language": "python",
   "name": "conda-root-py"
  },
  "language_info": {
   "codemirror_mode": {
    "name": "ipython",
    "version": 3
   },
   "file_extension": ".py",
   "mimetype": "text/x-python",
   "name": "python",
   "nbconvert_exporter": "python",
   "pygments_lexer": "ipython3",
   "version": "3.7.7"
  }
 },
 "nbformat": 4,
 "nbformat_minor": 5
}
