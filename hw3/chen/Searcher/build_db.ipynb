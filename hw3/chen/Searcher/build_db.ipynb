{
 "cells": [
  {
   "cell_type": "code",
   "execution_count": null,
   "id": "6886cd1b",
   "metadata": {},
   "outputs": [],
   "source": [
    "import sys\n",
    "import time\n",
    "import mariadb"
   ]
  },
  {
   "cell_type": "code",
   "execution_count": null,
   "id": "5726a31f",
   "metadata": {},
   "outputs": [],
   "source": [
    "# Connect Mariadb\n",
    "try:\n",
    "    conn = mariadb.connect(\n",
    "        user=\"root\",\n",
    "        password=\"123456\",\n",
    "#         host=\"127.0.0.1\",\n",
    "#         port=3306,\n",
    "    )\n",
    "except mariadb.Error as e:\n",
    "    print(f\"Error connecting to MariaDB Platform: {e}\")\n",
    "    sys.exit(1)"
   ]
  },
  {
   "cell_type": "code",
   "execution_count": null,
   "id": "2cd8b1ec",
   "metadata": {},
   "outputs": [],
   "source": [
    "DB_NAME = 'wse'\n",
    "\n",
    "TABLES = {}\n",
    "TABLES['lexicon'] = (\n",
    "    \"CREATE TABLE `lexicon` (\"\n",
    "    \"  `term`   varchar(30) NOT NULL,\"\n",
    "    \"  `start`  bigint      NOT NULL,\"\n",
    "    \"  `end`    bigint      NOT NULL,\"\n",
    "    \"  `freq`   int         NOT NULL,\"\n",
    "    \"  PRIMARY KEY (`term`)\"\n",
    "    \") ENGINE=InnoDB\")\n",
    "\n",
    "TABLES['docs'] = (\n",
    "    \"CREATE TABLE `docs` (\"\n",
    "    \"  `url`   varchar(1024)   NOT NULL,\"\n",
    "    \"  `text`  varchar(2048)   NOT NULL,\"\n",
    "    \"  PRIMARY KEY (`url`)\"\n",
    "    \") ENGINE=InnoDB\")\n",
    "\n",
    "TABLES['pgurl'] = (\n",
    "    \"CREATE TABLE `pgurl` (\"\n",
    "    \"  `id`    int             NOT NULL,\"\n",
    "    \"  `url`   varchar(1024)   NOT NULL,\"\n",
    "    \"  PRIMARY KEY (`id`)\"\n",
    "    \") ENGINE=InnoDB\")"
   ]
  },
  {
   "cell_type": "code",
   "execution_count": null,
   "id": "6437a210",
   "metadata": {},
   "outputs": [],
   "source": [
    "# Get Cursor\n",
    "cur = conn.cursor()"
   ]
  },
  {
   "cell_type": "code",
   "execution_count": null,
   "id": "6184c208",
   "metadata": {},
   "outputs": [],
   "source": [
    "# Create Database\n",
    "def create_database(cursor):\n",
    "    try:\n",
    "        cursor.execute(\n",
    "            \"CREATE DATABASE {} DEFAULT CHARACTER SET 'utf8'\".format(DB_NAME))\n",
    "    except mysql.connector.Error as err:\n",
    "        print(\"Failed creating database: {}\".format(err))\n",
    "        exit(1)\n",
    "\n",
    "try:\n",
    "    cur.execute(\"USE {}\".format(DB_NAME))\n",
    "except conn.Error as err:\n",
    "    print(\"Database {} does not exists.\".format(DB_NAME))\n",
    "    create_database(cur)\n",
    "    print(\"Database {} created successfully.\".format(DB_NAME))\n",
    "    conn.database = DB_NAME"
   ]
  },
  {
   "cell_type": "code",
   "execution_count": null,
   "id": "e280d645",
   "metadata": {},
   "outputs": [],
   "source": [
    "for table_name in TABLES:\n",
    "    table_description = TABLES[table_name]\n",
    "    try:\n",
    "        print(\"Creating table: {} \".format(table_name))\n",
    "        cur.execute(table_description)\n",
    "    except conn.Error as err:\n",
    "        print(err.msg)"
   ]
  },
  {
   "cell_type": "code",
   "execution_count": null,
   "id": "653cef9e",
   "metadata": {},
   "outputs": [],
   "source": [
    "# build lexicon\n",
    "start_time = time.time()\n",
    "with open('/Volumes/Elements/indexer/lexicon.txt') as lex:\n",
    "    for line in lex:\n",
    "        term, start, end, freq = line.strip().split()\n",
    "        try:\n",
    "            cur.execute(\n",
    "                \"INSERT INTO lexicon (term, start, end, freq) VALUES (?, ?, ?, ?)\", \n",
    "                (term, int(start), int(end), int(freq)))\n",
    "        except conn.Error as err:\n",
    "            print(err)\n",
    "conn.commit()\n",
    "print(time.time() - start_time)\n",
    "\n",
    "# 1099s"
   ]
  },
  {
   "cell_type": "code",
   "execution_count": null,
   "id": "1920bb35",
   "metadata": {},
   "outputs": [],
   "source": [
    "# build url table\n",
    "start_time = time.time()\n",
    "did = 0\n",
    "with open('/Volumes/Elements/indexer/page_url.txt') as pg:\n",
    "    for line in pg:\n",
    "        url = line.strip()\n",
    "        try:\n",
    "            cur.execute(\n",
    "                \"INSERT INTO pgurl (id, url) VALUES (?, ?)\", \n",
    "                (int(did), url))\n",
    "        except conn.Error as err:\n",
    "            print(err)\n",
    "        did += 1\n",
    "conn.commit()\n",
    "print(time.time() - start_time)\n",
    "\n",
    "# 104s"
   ]
  },
  {
   "cell_type": "code",
   "execution_count": null,
   "id": "402e325b",
   "metadata": {
    "scrolled": true
   },
   "outputs": [],
   "source": [
    "# build page content table\n",
    "start_time = time.time()\n",
    "with open('/Volumes/Elements/indexer/msmarco-docs.trec') as d:\n",
    "    while True:\n",
    "        nxt = d.readline()\n",
    "        if len(nxt) == 0:\n",
    "            break\n",
    "        if nxt.strip() == \"<DOC>\":\n",
    "            for i in range(2):\n",
    "                d.readline()\n",
    "            url = d.readline().strip()\n",
    "            text = ''\n",
    "            line = ''\n",
    "            while True:\n",
    "                line = d.readline().strip()\n",
    "                if line == \"</TEXT>\":\n",
    "                    break\n",
    "                text += line + ' '\n",
    "            try:\n",
    "                cur.execute(\n",
    "                    \"INSERT INTO docs (url, text) VALUES (?, ?)\", \n",
    "                    (url, text[:2048]))\n",
    "            except conn.Error as err:\n",
    "                pass\n",
    "conn.commit()\n",
    "print(time.time() - start_time)\n",
    "\n",
    "# 2032s"
   ]
  },
  {
   "cell_type": "code",
   "execution_count": null,
   "id": "0cff4d06",
   "metadata": {},
   "outputs": [],
   "source": [
    "conn.close()"
   ]
  }
 ],
 "metadata": {
  "kernelspec": {
   "display_name": "Python [conda env:root] *",
   "language": "python",
   "name": "conda-root-py"
  },
  "language_info": {
   "codemirror_mode": {
    "name": "ipython",
    "version": 3
   },
   "file_extension": ".py",
   "mimetype": "text/x-python",
   "name": "python",
   "nbconvert_exporter": "python",
   "pygments_lexer": "ipython3",
   "version": "3.7.7"
  }
 },
 "nbformat": 4,
 "nbformat_minor": 5
}
